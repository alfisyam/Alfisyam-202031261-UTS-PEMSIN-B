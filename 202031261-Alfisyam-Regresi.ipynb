{
 "cells": [
  {
   "cell_type": "markdown",
   "id": "31297d50",
   "metadata": {},
   "source": [
    "## Import Library"
   ]
  },
  {
   "cell_type": "code",
   "execution_count": 1,
   "id": "211991bb",
   "metadata": {},
   "outputs": [],
   "source": [
    "import pandas as pd\n",
    "import numpy as np\n",
    "from matplotlib import  pyplot as plt\n",
    "from sklearn.linear_model import  LinearRegression\n",
    "from sklearn.model_selection import train_test_split\n",
    "from sklearn.metrics import mean_squared_error"
   ]
  },
  {
   "cell_type": "markdown",
   "id": "c7d57775",
   "metadata": {},
   "source": [
    "## Membaca Data"
   ]
  },
  {
   "cell_type": "code",
   "execution_count": 2,
   "id": "bd06675a",
   "metadata": {},
   "outputs": [
    {
     "data": {
      "text/html": [
       "<div>\n",
       "<style scoped>\n",
       "    .dataframe tbody tr th:only-of-type {\n",
       "        vertical-align: middle;\n",
       "    }\n",
       "\n",
       "    .dataframe tbody tr th {\n",
       "        vertical-align: top;\n",
       "    }\n",
       "\n",
       "    .dataframe thead th {\n",
       "        text-align: right;\n",
       "    }\n",
       "</style>\n",
       "<table border=\"1\" class=\"dataframe\">\n",
       "  <thead>\n",
       "    <tr style=\"text-align: right;\">\n",
       "      <th></th>\n",
       "      <th>Production (X)</th>\n",
       "      <th>Harvest Area (Y)</th>\n",
       "    </tr>\n",
       "  </thead>\n",
       "  <tbody>\n",
       "    <tr>\n",
       "      <th>0</th>\n",
       "      <td>1329536.00</td>\n",
       "      <td>323589.00</td>\n",
       "    </tr>\n",
       "    <tr>\n",
       "      <th>1</th>\n",
       "      <td>1299699.00</td>\n",
       "      <td>329041.00</td>\n",
       "    </tr>\n",
       "    <tr>\n",
       "      <th>2</th>\n",
       "      <td>1382905.00</td>\n",
       "      <td>339253.00</td>\n",
       "    </tr>\n",
       "    <tr>\n",
       "      <th>3</th>\n",
       "      <td>1419128.00</td>\n",
       "      <td>348223.00</td>\n",
       "    </tr>\n",
       "    <tr>\n",
       "      <th>4</th>\n",
       "      <td>1368074.00</td>\n",
       "      <td>337561.00</td>\n",
       "    </tr>\n",
       "    <tr>\n",
       "      <th>...</th>\n",
       "      <td>...</td>\n",
       "      <td>...</td>\n",
       "    </tr>\n",
       "    <tr>\n",
       "      <th>219</th>\n",
       "      <td>3831923.00</td>\n",
       "      <td>390799.00</td>\n",
       "    </tr>\n",
       "    <tr>\n",
       "      <th>220</th>\n",
       "      <td>4090654.00</td>\n",
       "      <td>396559.00</td>\n",
       "    </tr>\n",
       "    <tr>\n",
       "      <th>221</th>\n",
       "      <td>2488641.91</td>\n",
       "      <td>511940.93</td>\n",
       "    </tr>\n",
       "    <tr>\n",
       "      <th>222</th>\n",
       "      <td>2164089.33</td>\n",
       "      <td>464103.42</td>\n",
       "    </tr>\n",
       "    <tr>\n",
       "      <th>223</th>\n",
       "      <td>2604913.29</td>\n",
       "      <td>545149.05</td>\n",
       "    </tr>\n",
       "  </tbody>\n",
       "</table>\n",
       "<p>224 rows × 2 columns</p>\n",
       "</div>"
      ],
      "text/plain": [
       "     Production (X)  Harvest Area (Y)\n",
       "0        1329536.00         323589.00\n",
       "1        1299699.00         329041.00\n",
       "2        1382905.00         339253.00\n",
       "3        1419128.00         348223.00\n",
       "4        1368074.00         337561.00\n",
       "..              ...               ...\n",
       "219      3831923.00         390799.00\n",
       "220      4090654.00         396559.00\n",
       "221      2488641.91         511940.93\n",
       "222      2164089.33         464103.42\n",
       "223      2604913.29         545149.05\n",
       "\n",
       "[224 rows x 2 columns]"
      ]
     },
     "execution_count": 2,
     "metadata": {},
     "output_type": "execute_result"
    }
   ],
   "source": [
    "df = pd.read_csv('R02_rice_field.csv')\n",
    "df"
   ]
  },
  {
   "cell_type": "code",
   "execution_count": 3,
   "id": "e211594f",
   "metadata": {},
   "outputs": [
    {
     "data": {
      "text/html": [
       "<div>\n",
       "<style scoped>\n",
       "    .dataframe tbody tr th:only-of-type {\n",
       "        vertical-align: middle;\n",
       "    }\n",
       "\n",
       "    .dataframe tbody tr th {\n",
       "        vertical-align: top;\n",
       "    }\n",
       "\n",
       "    .dataframe thead th {\n",
       "        text-align: right;\n",
       "    }\n",
       "</style>\n",
       "<table border=\"1\" class=\"dataframe\">\n",
       "  <thead>\n",
       "    <tr style=\"text-align: right;\">\n",
       "      <th></th>\n",
       "      <th>Production (X)</th>\n",
       "      <th>Harvest Area (Y)</th>\n",
       "    </tr>\n",
       "  </thead>\n",
       "  <tbody>\n",
       "    <tr>\n",
       "      <th>0</th>\n",
       "      <td>1329536.0</td>\n",
       "      <td>323589.0</td>\n",
       "    </tr>\n",
       "    <tr>\n",
       "      <th>1</th>\n",
       "      <td>1299699.0</td>\n",
       "      <td>329041.0</td>\n",
       "    </tr>\n",
       "    <tr>\n",
       "      <th>2</th>\n",
       "      <td>1382905.0</td>\n",
       "      <td>339253.0</td>\n",
       "    </tr>\n",
       "    <tr>\n",
       "      <th>3</th>\n",
       "      <td>1419128.0</td>\n",
       "      <td>348223.0</td>\n",
       "    </tr>\n",
       "    <tr>\n",
       "      <th>4</th>\n",
       "      <td>1368074.0</td>\n",
       "      <td>337561.0</td>\n",
       "    </tr>\n",
       "  </tbody>\n",
       "</table>\n",
       "</div>"
      ],
      "text/plain": [
       "   Production (X)  Harvest Area (Y)\n",
       "0       1329536.0          323589.0\n",
       "1       1299699.0          329041.0\n",
       "2       1382905.0          339253.0\n",
       "3       1419128.0          348223.0\n",
       "4       1368074.0          337561.0"
      ]
     },
     "execution_count": 3,
     "metadata": {},
     "output_type": "execute_result"
    }
   ],
   "source": [
    "df.head()"
   ]
  },
  {
   "cell_type": "code",
   "execution_count": 4,
   "id": "4a04e222",
   "metadata": {},
   "outputs": [
    {
     "name": "stdout",
     "output_type": "stream",
     "text": [
      "<class 'pandas.core.frame.DataFrame'>\n",
      "RangeIndex: 224 entries, 0 to 223\n",
      "Data columns (total 2 columns):\n",
      " #   Column            Non-Null Count  Dtype  \n",
      "---  ------            --------------  -----  \n",
      " 0   Production (X)    224 non-null    float64\n",
      " 1   Harvest Area (Y)  224 non-null    float64\n",
      "dtypes: float64(2)\n",
      "memory usage: 3.6 KB\n"
     ]
    }
   ],
   "source": [
    "df.info()"
   ]
  },
  {
   "cell_type": "code",
   "execution_count": 5,
   "id": "ba3aaee3",
   "metadata": {},
   "outputs": [
    {
     "data": {
      "text/html": [
       "<div>\n",
       "<style scoped>\n",
       "    .dataframe tbody tr th:only-of-type {\n",
       "        vertical-align: middle;\n",
       "    }\n",
       "\n",
       "    .dataframe tbody tr th {\n",
       "        vertical-align: top;\n",
       "    }\n",
       "\n",
       "    .dataframe thead th {\n",
       "        text-align: right;\n",
       "    }\n",
       "</style>\n",
       "<table border=\"1\" class=\"dataframe\">\n",
       "  <thead>\n",
       "    <tr style=\"text-align: right;\">\n",
       "      <th></th>\n",
       "      <th>Production (X)</th>\n",
       "      <th>Harvest Area (Y)</th>\n",
       "    </tr>\n",
       "  </thead>\n",
       "  <tbody>\n",
       "    <tr>\n",
       "      <th>219</th>\n",
       "      <td>3831923.00</td>\n",
       "      <td>390799.00</td>\n",
       "    </tr>\n",
       "    <tr>\n",
       "      <th>220</th>\n",
       "      <td>4090654.00</td>\n",
       "      <td>396559.00</td>\n",
       "    </tr>\n",
       "    <tr>\n",
       "      <th>221</th>\n",
       "      <td>2488641.91</td>\n",
       "      <td>511940.93</td>\n",
       "    </tr>\n",
       "    <tr>\n",
       "      <th>222</th>\n",
       "      <td>2164089.33</td>\n",
       "      <td>464103.42</td>\n",
       "    </tr>\n",
       "    <tr>\n",
       "      <th>223</th>\n",
       "      <td>2604913.29</td>\n",
       "      <td>545149.05</td>\n",
       "    </tr>\n",
       "  </tbody>\n",
       "</table>\n",
       "</div>"
      ],
      "text/plain": [
       "     Production (X)  Harvest Area (Y)\n",
       "219      3831923.00         390799.00\n",
       "220      4090654.00         396559.00\n",
       "221      2488641.91         511940.93\n",
       "222      2164089.33         464103.42\n",
       "223      2604913.29         545149.05"
      ]
     },
     "execution_count": 5,
     "metadata": {},
     "output_type": "execute_result"
    }
   ],
   "source": [
    "df.tail()"
   ]
  },
  {
   "cell_type": "markdown",
   "id": "32f88df6",
   "metadata": {},
   "source": [
    "## Pemisahan Variabel"
   ]
  },
  {
   "cell_type": "code",
   "execution_count": 6,
   "id": "dce048f7",
   "metadata": {},
   "outputs": [],
   "source": [
    "X = df['Production (X)'].values.reshape(-1, 1)\n",
    "y = df['Harvest Area (Y)'].values"
   ]
  },
  {
   "cell_type": "code",
   "execution_count": 7,
   "id": "6923ac6c",
   "metadata": {},
   "outputs": [
    {
     "data": {
      "text/html": [
       "<div>\n",
       "<style scoped>\n",
       "    .dataframe tbody tr th:only-of-type {\n",
       "        vertical-align: middle;\n",
       "    }\n",
       "\n",
       "    .dataframe tbody tr th {\n",
       "        vertical-align: top;\n",
       "    }\n",
       "\n",
       "    .dataframe thead th {\n",
       "        text-align: right;\n",
       "    }\n",
       "</style>\n",
       "<table border=\"1\" class=\"dataframe\">\n",
       "  <thead>\n",
       "    <tr style=\"text-align: right;\">\n",
       "      <th></th>\n",
       "      <th>Production (X)</th>\n",
       "      <th>Harvest Area (Y)</th>\n",
       "    </tr>\n",
       "  </thead>\n",
       "  <tbody>\n",
       "    <tr>\n",
       "      <th>Production (X)</th>\n",
       "      <td>1.000000</td>\n",
       "      <td>0.905622</td>\n",
       "    </tr>\n",
       "    <tr>\n",
       "      <th>Harvest Area (Y)</th>\n",
       "      <td>0.905622</td>\n",
       "      <td>1.000000</td>\n",
       "    </tr>\n",
       "  </tbody>\n",
       "</table>\n",
       "</div>"
      ],
      "text/plain": [
       "                  Production (X)  Harvest Area (Y)\n",
       "Production (X)          1.000000          0.905622\n",
       "Harvest Area (Y)        0.905622          1.000000"
      ]
     },
     "execution_count": 7,
     "metadata": {},
     "output_type": "execute_result"
    }
   ],
   "source": [
    "df.corr()"
   ]
  },
  {
   "cell_type": "markdown",
   "id": "dd2664ed",
   "metadata": {},
   "source": [
    "# Pembagian Data"
   ]
  },
  {
   "cell_type": "code",
   "execution_count": 8,
   "id": "74ae83de",
   "metadata": {},
   "outputs": [],
   "source": [
    "X_train, X_test, y_train, y_test = train_test_split(X, y, test_size=0.2, random_state=42)\n"
   ]
  },
  {
   "cell_type": "markdown",
   "id": "085e5fcc",
   "metadata": {},
   "source": [
    "# Membuat Model"
   ]
  },
  {
   "cell_type": "code",
   "execution_count": 9,
   "id": "8faeb20a",
   "metadata": {},
   "outputs": [],
   "source": [
    "model = LinearRegression()"
   ]
  },
  {
   "cell_type": "markdown",
   "id": "07918e91",
   "metadata": {},
   "source": [
    "# Melatih Model"
   ]
  },
  {
   "cell_type": "code",
   "execution_count": 10,
   "id": "ffc87b8c",
   "metadata": {},
   "outputs": [
    {
     "data": {
      "text/plain": [
       "LinearRegression()"
      ]
     },
     "execution_count": 10,
     "metadata": {},
     "output_type": "execute_result"
    }
   ],
   "source": [
    "model.fit(X_train, y_train)"
   ]
  },
  {
   "cell_type": "markdown",
   "id": "70e6e541",
   "metadata": {},
   "source": [
    "# Prediksi"
   ]
  },
  {
   "cell_type": "code",
   "execution_count": 11,
   "id": "08ea72bb",
   "metadata": {},
   "outputs": [],
   "source": [
    "y_pred = model.predict(X_test)"
   ]
  },
  {
   "cell_type": "markdown",
   "id": "b837c69d",
   "metadata": {},
   "source": [
    "# Evaluasi"
   ]
  },
  {
   "cell_type": "code",
   "execution_count": 12,
   "id": "fd7bc17b",
   "metadata": {},
   "outputs": [
    {
     "name": "stdout",
     "output_type": "stream",
     "text": [
      "Mean Squared Error: 5942443013.399284\n"
     ]
    }
   ],
   "source": [
    "mse = mean_squared_error(y_test, y_pred)\n",
    "print(f'Mean Squared Error: {mse}')\n"
   ]
  },
  {
   "cell_type": "markdown",
   "id": "f621c0df",
   "metadata": {},
   "source": [
    "# Visualisasi Model"
   ]
  },
  {
   "cell_type": "code",
   "execution_count": 21,
   "id": "685b0f97",
   "metadata": {},
   "outputs": [
    {
     "data": {
      "image/png": "[encoded data removed]",
      "text/plain": [
       "<Figure size 640x480 with 1 Axes>"
      ]
     },
     "metadata": {},
     "output_type": "display_data"
    }
   ],
   "source": [
    "plt.scatter(X, y, color='blue',)\n",
    "plt.plot(X_test, y_pred, color='yellow', linewidth=1,)\n",
    "plt.xlabel('Production')\n",
    "plt.ylabel('Harvest Area')\n",
    "plt.show()"
   ]
  }
 ],
 "metadata": {
  "kernelspec": {
   "display_name": "Python 3 (ipykernel)",
   "language": "python",
   "name": "python3"
  },
  "language_info": {
   "codemirror_mode": {
    "name": "ipython",
    "version": 3
   },
   "file_extension": ".py",
   "mimetype": "text/x-python",
   "name": "python",
   "nbconvert_exporter": "python",
   "pygments_lexer": "ipython3",
   "version": "3.9.13"
  }
 },
 "nbformat": 4,
 "nbformat_minor": 5
}
